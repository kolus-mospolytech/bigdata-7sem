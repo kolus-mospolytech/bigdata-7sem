{
 "cells": [
  {
   "cell_type": "code",
   "execution_count": 36,
   "outputs": [],
   "source": [
    "# Стандартизация\n",
    "import pandas as pd\n",
    "from sklearn import preprocessing\n",
    "\n",
    "df = pd.read_csv('data/occupancy_even.csv')\n",
    "\n",
    "scaler = preprocessing.StandardScaler()\n",
    "\n",
    "names = df.columns\n",
    "scaled_data = scaler.fit_transform(df)\n",
    "\n",
    "df_std = pd.DataFrame(scaled_data, columns=names)\n"
   ],
   "metadata": {
    "collapsed": false
   }
  },
  {
   "cell_type": "code",
   "execution_count": 37,
   "outputs": [
    {
     "data": {
      "text/plain": "GaussianNB()",
      "text/html": "<style>#sk-container-id-6 {color: black;background-color: white;}#sk-container-id-6 pre{padding: 0;}#sk-container-id-6 div.sk-toggleable {background-color: white;}#sk-container-id-6 label.sk-toggleable__label {cursor: pointer;display: block;width: 100%;margin-bottom: 0;padding: 0.3em;box-sizing: border-box;text-align: center;}#sk-container-id-6 label.sk-toggleable__label-arrow:before {content: \"▸\";float: left;margin-right: 0.25em;color: #696969;}#sk-container-id-6 label.sk-toggleable__label-arrow:hover:before {color: black;}#sk-container-id-6 div.sk-estimator:hover label.sk-toggleable__label-arrow:before {color: black;}#sk-container-id-6 div.sk-toggleable__content {max-height: 0;max-width: 0;overflow: hidden;text-align: left;background-color: #f0f8ff;}#sk-container-id-6 div.sk-toggleable__content pre {margin: 0.2em;color: black;border-radius: 0.25em;background-color: #f0f8ff;}#sk-container-id-6 input.sk-toggleable__control:checked~div.sk-toggleable__content {max-height: 200px;max-width: 100%;overflow: auto;}#sk-container-id-6 input.sk-toggleable__control:checked~label.sk-toggleable__label-arrow:before {content: \"▾\";}#sk-container-id-6 div.sk-estimator input.sk-toggleable__control:checked~label.sk-toggleable__label {background-color: #d4ebff;}#sk-container-id-6 div.sk-label input.sk-toggleable__control:checked~label.sk-toggleable__label {background-color: #d4ebff;}#sk-container-id-6 input.sk-hidden--visually {border: 0;clip: rect(1px 1px 1px 1px);clip: rect(1px, 1px, 1px, 1px);height: 1px;margin: -1px;overflow: hidden;padding: 0;position: absolute;width: 1px;}#sk-container-id-6 div.sk-estimator {font-family: monospace;background-color: #f0f8ff;border: 1px dotted black;border-radius: 0.25em;box-sizing: border-box;margin-bottom: 0.5em;}#sk-container-id-6 div.sk-estimator:hover {background-color: #d4ebff;}#sk-container-id-6 div.sk-parallel-item::after {content: \"\";width: 100%;border-bottom: 1px solid gray;flex-grow: 1;}#sk-container-id-6 div.sk-label:hover label.sk-toggleable__label {background-color: #d4ebff;}#sk-container-id-6 div.sk-serial::before {content: \"\";position: absolute;border-left: 1px solid gray;box-sizing: border-box;top: 0;bottom: 0;left: 50%;z-index: 0;}#sk-container-id-6 div.sk-serial {display: flex;flex-direction: column;align-items: center;background-color: white;padding-right: 0.2em;padding-left: 0.2em;position: relative;}#sk-container-id-6 div.sk-item {position: relative;z-index: 1;}#sk-container-id-6 div.sk-parallel {display: flex;align-items: stretch;justify-content: center;background-color: white;position: relative;}#sk-container-id-6 div.sk-item::before, #sk-container-id-6 div.sk-parallel-item::before {content: \"\";position: absolute;border-left: 1px solid gray;box-sizing: border-box;top: 0;bottom: 0;left: 50%;z-index: -1;}#sk-container-id-6 div.sk-parallel-item {display: flex;flex-direction: column;z-index: 1;position: relative;background-color: white;}#sk-container-id-6 div.sk-parallel-item:first-child::after {align-self: flex-end;width: 50%;}#sk-container-id-6 div.sk-parallel-item:last-child::after {align-self: flex-start;width: 50%;}#sk-container-id-6 div.sk-parallel-item:only-child::after {width: 0;}#sk-container-id-6 div.sk-dashed-wrapped {border: 1px dashed gray;margin: 0 0.4em 0.5em 0.4em;box-sizing: border-box;padding-bottom: 0.4em;background-color: white;}#sk-container-id-6 div.sk-label label {font-family: monospace;font-weight: bold;display: inline-block;line-height: 1.2em;}#sk-container-id-6 div.sk-label-container {text-align: center;}#sk-container-id-6 div.sk-container {/* jupyter's `normalize.less` sets `[hidden] { display: none; }` but bootstrap.min.css set `[hidden] { display: none !important; }` so we also need the `!important` here to be able to override the default hidden behavior on the sphinx rendered scikit-learn.org. See: https://github.com/scikit-learn/scikit-learn/issues/21755 */display: inline-block !important;position: relative;}#sk-container-id-6 div.sk-text-repr-fallback {display: none;}</style><div id=\"sk-container-id-6\" class=\"sk-top-container\"><div class=\"sk-text-repr-fallback\"><pre>GaussianNB()</pre><b>In a Jupyter environment, please rerun this cell to show the HTML representation or trust the notebook. <br />On GitHub, the HTML representation is unable to render, please try loading this page with nbviewer.org.</b></div><div class=\"sk-container\" hidden><div class=\"sk-item\"><div class=\"sk-estimator sk-toggleable\"><input class=\"sk-toggleable__control sk-hidden--visually\" id=\"sk-estimator-id-6\" type=\"checkbox\" checked><label for=\"sk-estimator-id-6\" class=\"sk-toggleable__label sk-toggleable__label-arrow\">GaussianNB</label><div class=\"sk-toggleable__content\"><pre>GaussianNB()</pre></div></div></div></div></div>"
     },
     "execution_count": 37,
     "metadata": {},
     "output_type": "execute_result"
    }
   ],
   "source": [
    "# Создание и обучение классификатора\n",
    "from sklearn.naive_bayes import GaussianNB\n",
    "from sklearn.metrics import confusion_matrix, accuracy_score\n",
    "from sklearn.model_selection import train_test_split\n",
    "\n",
    "x = df_std.iloc[:, :-1].values  # все колонки до последней - переменные функции\n",
    "y = df.iloc[:, -1].values  # в качестве результирующего значения берем последнюю колонку\n",
    "\n",
    "# делим набор данных на обучающий и тестовый\n",
    "x_train, x_test, y_train, y_test = train_test_split(x, y, test_size=0.25)\n",
    "\n",
    "classifier = GaussianNB()\n",
    "classifier.fit(x_train, y_train)  # идентифицирует и изучает параметры модели из обучающего набора данных\n"
   ],
   "metadata": {
    "collapsed": false
   }
  },
  {
   "cell_type": "code",
   "execution_count": 38,
   "outputs": [
    {
     "name": "stdout",
     "output_type": "stream",
     "text": [
      "Точность:\n",
      " 0.9701789264413518 \n",
      "\n",
      "Матрица ошибок:\n",
      " [[261  13]\n",
      " [  2 227]] \n",
      "\n"
     ]
    }
   ],
   "source": [
    "# Оценка качества классификатора\n",
    "y_pred = classifier.predict(x_test)  # прогноз на основе тестовых данных\n",
    "\n",
    "# классификационная оценка точности\n",
    "print(\"Точность:\\n\", accuracy_score(y_test, y_pred), \"\\n\")\n",
    "\n",
    "# вычисляет матрицу ошибок для оценки точности классификации\n",
    "print(\"Матрица ошибок:\\n\", confusion_matrix(y_test, y_pred), \"\\n\")\n"
   ],
   "metadata": {
    "collapsed": false
   }
  },
  {
   "cell_type": "code",
   "execution_count": 39,
   "outputs": [
    {
     "name": "stdout",
     "output_type": "stream",
     "text": [
      "    Temperature   Humidity        Light          CO2  HumidityRatio  Occupancy\n",
      "0     17.066686  26.863032    51.744275  1389.121874       0.004455        0.0\n",
      "1     21.595031  21.657614   729.308258  1051.735349       0.004239        0.0\n",
      "2     23.947859  29.200725  1006.834511  1998.767881       0.006298        0.0\n",
      "3     20.705933  20.368108   185.528205  1619.208862       0.003014        0.0\n",
      "4     20.693858  23.368744  1132.833617  1185.997764       0.003869        0.0\n",
      "5     26.083343  12.656207   844.812449  1470.564385       0.003570        0.0\n",
      "6     17.342311  31.975043   282.702372   841.087580       0.004290        0.0\n",
      "7     29.403042  28.646465   994.169116  1929.827852       0.005461        0.0\n",
      "8     16.912578  32.307598   992.388053   971.805506       0.003776        0.0\n",
      "9     19.366455  30.404387   693.346533   890.971757       0.006091        0.0\n",
      "10    23.245324  18.437824   421.241934   759.390168       0.004927        0.0\n",
      "11    20.745306  23.053320   612.583794  1250.635296       0.005904        0.0\n",
      "12    21.354420  38.905271   275.509283   694.424847       0.003622        0.0\n",
      "13    28.379111  10.077523   377.694224   924.726349       0.001023        0.0\n",
      "14    17.525803  28.889481   880.331719  1436.669727       0.002722        0.0\n"
     ]
    }
   ],
   "source": [
    "# Генератор входных данных\n",
    "import pandas as pd\n",
    "import numpy as np\n",
    "\n",
    "n = 15  # количество входных объектов\n",
    "\n",
    "# генерируем параметры в диапазоне, большем допустимого интервала\n",
    "temp = np.random.uniform(low=15.0, high=30.0, size=(n,))\n",
    "humid = np.random.uniform(low=10.0, high=40.0, size=(n,))\n",
    "light = np.random.uniform(low=0.0, high=1200.0, size=(n,))\n",
    "co2 = np.random.uniform(low=300.0, high=2000.0, size=(n,))\n",
    "humid_ratio = np.random.uniform(low=0.001, high=0.007, size=(n,))\n",
    "occupancy = np.zeros((n,))\n",
    "\n",
    "matrix_aux = np.vstack([temp, humid, light, co2, humid_ratio, occupancy])\n",
    "matrix = np.transpose(matrix_aux)\n",
    "df_input = pd.DataFrame(matrix, columns=['Temperature', 'Humidity', 'Light', 'CO2', 'HumidityRatio', 'Occupancy'])\n",
    "\n",
    "print(df_input)\n"
   ],
   "metadata": {
    "collapsed": false
   }
  },
  {
   "cell_type": "code",
   "execution_count": 40,
   "outputs": [
    {
     "name": "stdout",
     "output_type": "stream",
     "text": [
      "    Temperature  Humidity     Light       CO2  HumidityRatio  Occupancy\n",
      "0     -4.209173  0.455423 -0.771982  2.016601       0.507900  -0.963873\n",
      "1     -0.017963 -1.621742  1.884967  0.910486       0.166671  -0.963873\n",
      "2      2.159698  1.388254  2.973238  4.015313       3.412278  -0.963873\n",
      "3     -0.840868 -2.136306 -0.247372  2.770937      -1.763741  -0.963873\n",
      "4     -0.852043 -0.938935  3.467321  1.350663      -0.415870  -0.963873\n",
      "5      4.136195 -5.213656  2.337896  2.283609      -0.888236  -0.963873\n",
      "6     -3.954068  2.495316  0.133680  0.219882       0.247069  -0.963873\n",
      "7      7.208742  1.167083  2.923573  3.789295       2.092628  -0.963873\n",
      "8     -4.351807  2.628018  2.916588  0.648438      -0.562794  -0.963873\n",
      "9     -2.080621  1.868563  1.743949  0.383426       3.086334  -0.963873\n",
      "10     1.509466 -2.906565  0.676938 -0.047961       1.251542  -0.963873\n",
      "11    -0.804426 -1.064801  1.427252  1.562576       2.792266  -0.963873\n",
      "12    -0.240660  5.260748  0.105473 -0.260949      -0.804939  -0.963873\n",
      "13     6.261042 -6.242652  0.506174  0.494090      -4.902108  -0.963873\n",
      "14    -3.784237  1.264056  2.477179  2.172486      -2.223811  -0.963873\n"
     ]
    }
   ],
   "source": [
    "# Стандартизируем тестовые данные\n",
    "import pandas as pd\n",
    "\n",
    "input_scaled = scaler.transform(df_input)\n",
    "\n",
    "df_input_std = pd.DataFrame(input_scaled, columns=names)\n",
    "print(df_input_std)\n"
   ],
   "metadata": {
    "collapsed": false
   }
  },
  {
   "cell_type": "code",
   "execution_count": 41,
   "outputs": [
    {
     "name": "stdout",
     "output_type": "stream",
     "text": [
      "    Temperature   Humidity       Light          CO2  HumidityRatio  Occupancy\n",
      "1     21.595031  21.657614  729.308258  1051.735349       0.004239        0.0\n",
      "3     20.705933  20.368108  185.528205  1619.208862       0.003014        0.0\n",
      "10    23.245324  18.437824  421.241934   759.390168       0.004927        0.0\n",
      "11    20.745306  23.053320  612.583794  1250.635296       0.005904        0.0 \n",
      "\n",
      "    Temperature  Humidity     Light       CO2  HumidityRatio  Occupancy\n",
      "1     -0.017963 -1.621742  1.884967  0.910486       0.166671  -0.963873\n",
      "3     -0.840868 -2.136306 -0.247372  2.770937      -1.763741  -0.963873\n",
      "10     1.509466 -2.906565  0.676938 -0.047961       1.251542  -0.963873\n",
      "11    -0.804426 -1.064801  1.427252  1.562576       2.792266  -0.963873\n"
     ]
    }
   ],
   "source": [
    "# Удаляем значения вне доверительного интервала\n",
    "std = df_std.std()\n",
    "\n",
    "for_deletion = df_input_std.index[\n",
    "    (df_input_std.Temperature < (-3 * std.Temperature)) |\n",
    "    (df_input_std.Temperature > (3 * std.Temperature)) |\n",
    "    (df_input_std.Humidity < (-3 * std.Humidity)) |\n",
    "    (df_input_std.Humidity > (3 * std.Humidity)) |\n",
    "    (df_input_std.Light < (-3 * std.Light)) |\n",
    "    (df_input_std.Light > (3 * std.Light)) |\n",
    "    (df_input_std.CO2 < (-3 * std.CO2)) |\n",
    "    (df_input_std.CO2 > (3 * std.CO2)) |\n",
    "    (df_input_std.HumidityRatio < (-3 * std.HumidityRatio)) |\n",
    "    (df_input_std.HumidityRatio > (3 * std.HumidityRatio))\n",
    "    ].tolist()\n",
    "\n",
    "df_input_clean = df_input.drop(for_deletion)\n",
    "df_input_clean_std = df_input_std.drop(for_deletion)\n",
    "\n",
    "print(df_input_clean, '\\n')\n",
    "print(df_input_clean_std)\n"
   ],
   "metadata": {
    "collapsed": false
   }
  },
  {
   "cell_type": "code",
   "execution_count": 42,
   "outputs": [
    {
     "name": "stdout",
     "output_type": "stream",
     "text": [
      "    Temperature   Humidity       Light          CO2  HumidityRatio  Occupancy  \\\n",
      "1     21.595031  21.657614  729.308258  1051.735349       0.004239          1   \n",
      "3     20.705933  20.368108  185.528205  1619.208862       0.003014          1   \n",
      "10    23.245324  18.437824  421.241934   759.390168       0.004927          1   \n",
      "11    20.745306  23.053320  612.583794  1250.635296       0.005904          1   \n",
      "\n",
      "    Probability0  Probability1  \n",
      "1   1.972545e-13       1.00000  \n",
      "3   3.802445e-04       0.99962  \n",
      "10  2.214131e-08       1.00000  \n",
      "11  1.471002e-17       1.00000  \n"
     ]
    }
   ],
   "source": [
    "# Подаем полученные данные на вход классификатору\n",
    "\n",
    "input_x = df_input_clean_std.iloc[:, :-1].values\n",
    "\n",
    "input_y = classifier.predict(input_x)\n",
    "probs = classifier.predict_proba(input_x)\n",
    "probs = np.transpose(probs)\n",
    "\n",
    "df_input_clean.Occupancy = input_y\n",
    "df_input_clean['Probability0'] = probs[0]\n",
    "df_input_clean['Probability1'] = probs[1]\n",
    "\n",
    "print(df_input_clean)\n"
   ],
   "metadata": {
    "collapsed": false
   }
  }
 ],
 "metadata": {
  "kernelspec": {
   "display_name": "Python 3",
   "language": "python",
   "name": "python3"
  },
  "language_info": {
   "codemirror_mode": {
    "name": "ipython",
    "version": 2
   },
   "file_extension": ".py",
   "mimetype": "text/x-python",
   "name": "python",
   "nbconvert_exporter": "python",
   "pygments_lexer": "ipython2",
   "version": "2.7.6"
  }
 },
 "nbformat": 4,
 "nbformat_minor": 0
}
