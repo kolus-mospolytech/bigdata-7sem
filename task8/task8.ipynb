{
 "cells": [
  {
   "cell_type": "code",
   "execution_count": 1,
   "metadata": {
    "collapsed": true
   },
   "outputs": [
    {
     "name": "stdout",
     "output_type": "stream",
     "text": [
      "     x1   x2   x3\n",
      "0   255   25   25\n",
      "1   255   64   25\n",
      "2   255  102   25\n",
      "3   255  140   25\n",
      "4   255  179   25\n",
      "..  ...  ...  ...\n",
      "56  230    0  153\n",
      "57  230    0  153\n",
      "58  230    0   76\n",
      "59  230    0   38\n",
      "60    0    0    0\n",
      "\n",
      "[61 rows x 3 columns]\n"
     ]
    }
   ],
   "source": [
    "import pandas as pd\n",
    "\n",
    "df = pd.read_csv('data/colors_2.csv', delimiter=':')\n",
    "print(df)\n"
   ]
  },
  {
   "cell_type": "code",
   "execution_count": 2,
   "outputs": [
    {
     "name": "stdout",
     "output_type": "stream",
     "text": [
      "     x1   x2   x3\n",
      "0    93   93   93\n",
      "1   116  116  116\n",
      "2   138  138  138\n",
      "3   161  161  161\n",
      "4   184  184  184\n",
      "..  ...  ...  ...\n",
      "56   86   86   86\n",
      "57   86   86   86\n",
      "58   77   77   77\n",
      "59   73   73   73\n",
      "60    0    0    0\n",
      "\n",
      "[61 rows x 3 columns]\n",
      "     x1   x2   x3\n",
      "0    93   93   93\n",
      "1   116  116  116\n",
      "2   138  138  138\n",
      "3   161  161  161\n",
      "4   184  184  184\n",
      "..  ...  ...  ...\n",
      "56   86   86   86\n",
      "57   86   86   86\n",
      "58   77   77   77\n",
      "59   73   73   73\n",
      "60    0    0    0\n",
      "\n",
      "[61 rows x 3 columns]\n"
     ]
    }
   ],
   "source": [
    "df_bw = pd.DataFrame(df)\n",
    "\n",
    "for idx in df.index:\n",
    "    brightness = int(0.299 * df.loc[idx][0] + 0.587 * df.loc[idx][1] + 0.114 * df.loc[idx][2])\n",
    "    df_bw.loc[idx] = [brightness, brightness, brightness]\n",
    "\n",
    "# раскомментировать для ч/б режима\n",
    "df = pd.DataFrame(df_bw)\n",
    "\n",
    "print(df)\n",
    "print(df_bw)\n"
   ],
   "metadata": {
    "collapsed": false
   }
  },
  {
   "cell_type": "code",
   "execution_count": 3,
   "outputs": [
    {
     "name": "stdout",
     "output_type": "stream",
     "text": [
      "[[ 87.86956522  87.86956522  87.86956522]\n",
      " [203.66666667 203.66666667 203.66666667]\n",
      " [ 38.66666667  38.66666667  38.66666667]\n",
      " [158.11764706 158.11764706 158.11764706]]\n",
      "     x1   x2   x3  label\n",
      "0    93   93   93      0\n",
      "1   116  116  116      0\n",
      "2   138  138  138      3\n",
      "3   161  161  161      3\n",
      "4   184  184  184      1\n",
      "..  ...  ...  ...    ...\n",
      "56   86   86   86      0\n",
      "57   86   86   86      0\n",
      "58   77   77   77      0\n",
      "59   73   73   73      0\n",
      "60    0    0    0      2\n",
      "\n",
      "[61 rows x 4 columns]\n"
     ]
    }
   ],
   "source": [
    "from sklearn.cluster import KMeans\n",
    "\n",
    "kmeans = KMeans(n_clusters=4, init='k-means++', n_init='auto')\n",
    "y_pred = kmeans.fit_predict(df)\n",
    "df['label'] = y_pred\n",
    "\n",
    "print(kmeans.cluster_centers_)\n",
    "print(df)\n",
    "\n",
    "# df.to_csv('output/labeled.csv', index=False)\n"
   ],
   "metadata": {
    "collapsed": false
   }
  },
  {
   "cell_type": "code",
   "execution_count": 4,
   "outputs": [],
   "source": [
    "centroids = pd.DataFrame()\n",
    "centroids[['x1', 'x2', 'x3']] = kmeans.cluster_centers_\n",
    "centroids['sum'] = centroids.sum(axis=1)\n",
    "centroids.sort_values(by=['sum'], inplace=True)\n",
    "\n",
    "with open(\"output/index.html\", \"w\") as html_file:\n",
    "    html_file.write(\n",
    "        '<html><head><style>table {border-collapse: collapse; border: none} td {border: none; padding: 1.5vw}</style></head><body><table>')\n",
    "    for label in centroids.index:\n",
    "        cluster = pd.DataFrame(df.iloc[df.index[df.label == label].tolist()])\n",
    "        cluster['sum'] = cluster[['x1', 'x2', 'x3']].sum(axis=1)\n",
    "        cluster.sort_values(by=['sum'], inplace=True)\n",
    "\n",
    "        html_file.write(\n",
    "            f'<tr><td style=\"background-color:rgb({centroids.loc[label][0]}, {centroids.loc[label][1]}, {centroids.loc[label][2]})\">{label}</td>')\n",
    "\n",
    "        for idx in cluster.index:\n",
    "            html_file.write(\n",
    "                f'<td style=\"background-color:rgb({cluster.loc[idx][0]}, {cluster.loc[idx][1]}, {cluster.loc[idx][2]})\"></td>')\n",
    "\n",
    "    html_file.write(\"</table></body></html>\")\n"
   ],
   "metadata": {
    "collapsed": false
   }
  }
 ],
 "metadata": {
  "kernelspec": {
   "display_name": "Python 3",
   "language": "python",
   "name": "python3"
  },
  "language_info": {
   "codemirror_mode": {
    "name": "ipython",
    "version": 2
   },
   "file_extension": ".py",
   "mimetype": "text/x-python",
   "name": "python",
   "nbconvert_exporter": "python",
   "pygments_lexer": "ipython2",
   "version": "2.7.6"
  }
 },
 "nbformat": 4,
 "nbformat_minor": 0
}
