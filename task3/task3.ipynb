{
 "cells": [
  {
   "cell_type": "code",
   "execution_count": 115,
   "outputs": [],
   "source": [
    "# Стандартизация\n",
    "import pandas as pd\n",
    "from sklearn import preprocessing\n",
    "\n",
    "df = pd.read_csv('data/occupancy_even.csv')\n",
    "\n",
    "scaler = preprocessing.StandardScaler()\n",
    "\n",
    "names = df.columns\n",
    "scaled_data = scaler.fit_transform(df)\n",
    "\n",
    "df_std = pd.DataFrame(scaled_data, columns=names)\n"
   ],
   "metadata": {
    "collapsed": false
   }
  },
  {
   "cell_type": "code",
   "execution_count": 116,
   "metadata": {
    "collapsed": true
   },
   "outputs": [
    {
     "data": {
      "text/plain": "KNeighborsClassifier(n_neighbors=10)",
      "text/html": "<style>#sk-container-id-14 {color: black;background-color: white;}#sk-container-id-14 pre{padding: 0;}#sk-container-id-14 div.sk-toggleable {background-color: white;}#sk-container-id-14 label.sk-toggleable__label {cursor: pointer;display: block;width: 100%;margin-bottom: 0;padding: 0.3em;box-sizing: border-box;text-align: center;}#sk-container-id-14 label.sk-toggleable__label-arrow:before {content: \"▸\";float: left;margin-right: 0.25em;color: #696969;}#sk-container-id-14 label.sk-toggleable__label-arrow:hover:before {color: black;}#sk-container-id-14 div.sk-estimator:hover label.sk-toggleable__label-arrow:before {color: black;}#sk-container-id-14 div.sk-toggleable__content {max-height: 0;max-width: 0;overflow: hidden;text-align: left;background-color: #f0f8ff;}#sk-container-id-14 div.sk-toggleable__content pre {margin: 0.2em;color: black;border-radius: 0.25em;background-color: #f0f8ff;}#sk-container-id-14 input.sk-toggleable__control:checked~div.sk-toggleable__content {max-height: 200px;max-width: 100%;overflow: auto;}#sk-container-id-14 input.sk-toggleable__control:checked~label.sk-toggleable__label-arrow:before {content: \"▾\";}#sk-container-id-14 div.sk-estimator input.sk-toggleable__control:checked~label.sk-toggleable__label {background-color: #d4ebff;}#sk-container-id-14 div.sk-label input.sk-toggleable__control:checked~label.sk-toggleable__label {background-color: #d4ebff;}#sk-container-id-14 input.sk-hidden--visually {border: 0;clip: rect(1px 1px 1px 1px);clip: rect(1px, 1px, 1px, 1px);height: 1px;margin: -1px;overflow: hidden;padding: 0;position: absolute;width: 1px;}#sk-container-id-14 div.sk-estimator {font-family: monospace;background-color: #f0f8ff;border: 1px dotted black;border-radius: 0.25em;box-sizing: border-box;margin-bottom: 0.5em;}#sk-container-id-14 div.sk-estimator:hover {background-color: #d4ebff;}#sk-container-id-14 div.sk-parallel-item::after {content: \"\";width: 100%;border-bottom: 1px solid gray;flex-grow: 1;}#sk-container-id-14 div.sk-label:hover label.sk-toggleable__label {background-color: #d4ebff;}#sk-container-id-14 div.sk-serial::before {content: \"\";position: absolute;border-left: 1px solid gray;box-sizing: border-box;top: 0;bottom: 0;left: 50%;z-index: 0;}#sk-container-id-14 div.sk-serial {display: flex;flex-direction: column;align-items: center;background-color: white;padding-right: 0.2em;padding-left: 0.2em;position: relative;}#sk-container-id-14 div.sk-item {position: relative;z-index: 1;}#sk-container-id-14 div.sk-parallel {display: flex;align-items: stretch;justify-content: center;background-color: white;position: relative;}#sk-container-id-14 div.sk-item::before, #sk-container-id-14 div.sk-parallel-item::before {content: \"\";position: absolute;border-left: 1px solid gray;box-sizing: border-box;top: 0;bottom: 0;left: 50%;z-index: -1;}#sk-container-id-14 div.sk-parallel-item {display: flex;flex-direction: column;z-index: 1;position: relative;background-color: white;}#sk-container-id-14 div.sk-parallel-item:first-child::after {align-self: flex-end;width: 50%;}#sk-container-id-14 div.sk-parallel-item:last-child::after {align-self: flex-start;width: 50%;}#sk-container-id-14 div.sk-parallel-item:only-child::after {width: 0;}#sk-container-id-14 div.sk-dashed-wrapped {border: 1px dashed gray;margin: 0 0.4em 0.5em 0.4em;box-sizing: border-box;padding-bottom: 0.4em;background-color: white;}#sk-container-id-14 div.sk-label label {font-family: monospace;font-weight: bold;display: inline-block;line-height: 1.2em;}#sk-container-id-14 div.sk-label-container {text-align: center;}#sk-container-id-14 div.sk-container {/* jupyter's `normalize.less` sets `[hidden] { display: none; }` but bootstrap.min.css set `[hidden] { display: none !important; }` so we also need the `!important` here to be able to override the default hidden behavior on the sphinx rendered scikit-learn.org. See: https://github.com/scikit-learn/scikit-learn/issues/21755 */display: inline-block !important;position: relative;}#sk-container-id-14 div.sk-text-repr-fallback {display: none;}</style><div id=\"sk-container-id-14\" class=\"sk-top-container\"><div class=\"sk-text-repr-fallback\"><pre>KNeighborsClassifier(n_neighbors=10)</pre><b>In a Jupyter environment, please rerun this cell to show the HTML representation or trust the notebook. <br />On GitHub, the HTML representation is unable to render, please try loading this page with nbviewer.org.</b></div><div class=\"sk-container\" hidden><div class=\"sk-item\"><div class=\"sk-estimator sk-toggleable\"><input class=\"sk-toggleable__control sk-hidden--visually\" id=\"sk-estimator-id-14\" type=\"checkbox\" checked><label for=\"sk-estimator-id-14\" class=\"sk-toggleable__label sk-toggleable__label-arrow\">KNeighborsClassifier</label><div class=\"sk-toggleable__content\"><pre>KNeighborsClassifier(n_neighbors=10)</pre></div></div></div></div></div>"
     },
     "execution_count": 116,
     "metadata": {},
     "output_type": "execute_result"
    }
   ],
   "source": [
    "# Создание и обучение классификатора\n",
    "from sklearn.metrics import confusion_matrix, accuracy_score\n",
    "from sklearn.model_selection import train_test_split\n",
    "from sklearn.neighbors import KNeighborsClassifier\n",
    "\n",
    "x = df_std.iloc[:, :-1].values  # все колонки до последней - переменные функции\n",
    "y = df.iloc[:, -1].values  # в качестве результирующего значения берем последнюю колонку\n",
    "\n",
    "# делим набор данных на обучающий и тестовый\n",
    "x_train, x_test, y_train, y_test = train_test_split(x, y, test_size=0.25)\n",
    "\n",
    "classifier = KNeighborsClassifier(n_neighbors=10)\n",
    "classifier.fit(x_train, y_train)  # идентифицирует и изучает параметры модели из обучающего набора данных\n"
   ]
  },
  {
   "cell_type": "code",
   "execution_count": 117,
   "outputs": [
    {
     "name": "stdout",
     "output_type": "stream",
     "text": [
      "Точность:\n",
      " 0.9821073558648111 \n",
      "\n",
      "Матрица ошибок:\n",
      " [[269   8]\n",
      " [  1 225]] \n",
      "\n"
     ]
    }
   ],
   "source": [
    "# Оценка качества классификатора\n",
    "y_pred = classifier.predict(x_test)  # прогноз на основе тестовых данных\n",
    "\n",
    "# классификационная оценка точности\n",
    "print(\"Точность:\\n\", accuracy_score(y_test, y_pred), \"\\n\")\n",
    "\n",
    "# вычисляет матрицу ошибок для оценки точности классификации\n",
    "print(\"Матрица ошибок:\\n\", confusion_matrix(y_test, y_pred), \"\\n\")\n"
   ],
   "metadata": {
    "collapsed": false
   }
  },
  {
   "cell_type": "code",
   "execution_count": 118,
   "outputs": [
    {
     "name": "stdout",
     "output_type": "stream",
     "text": [
      "    Temperature   Humidity       Light          CO2  HumidityRatio  Occupancy\n",
      "0     18.136202  31.858187  457.202975  1296.095805       0.004108        0.0\n",
      "1     24.165500  29.480464  151.836255   848.832122       0.005877        0.0\n",
      "2     17.060492  19.970922  542.209615   533.254476       0.003217        0.0\n",
      "3     25.506268  21.017839  812.901865  1662.483131       0.004609        0.0\n",
      "4     15.824123  16.508730  695.450783   633.355417       0.001177        0.0\n",
      "5     17.910163  28.136127  438.945401  1393.928745       0.006219        0.0\n",
      "6     29.013186  20.784744  659.301007   882.637374       0.003562        0.0\n",
      "7     23.299334  30.895699   11.024128  1471.714233       0.004622        0.0\n",
      "8     28.615650  17.748791  740.269871  1600.068199       0.006959        0.0\n",
      "9     23.172194  28.939258  567.277554  1102.303801       0.002324        0.0\n",
      "10    23.672578  21.877401  144.451501  1628.179072       0.003566        0.0\n",
      "11    20.070492  27.286837  704.326867   669.812453       0.003361        0.0\n",
      "12    29.527904  23.252252   49.521556   921.226126       0.001926        0.0\n",
      "13    29.373129  10.297455  405.833008   429.827565       0.003792        0.0\n",
      "14    15.177142  33.527686  443.078405  1615.565553       0.003164        0.0\n"
     ]
    }
   ],
   "source": [
    "# Генератор входных данных\n",
    "import pandas as pd\n",
    "import numpy as np\n",
    "\n",
    "n = 15  # количество входных объектов\n",
    "\n",
    "# генерируем параметры в диапазоне, большем допустимого интервала\n",
    "temp = np.random.uniform(low=15.0, high=30.0, size=(n,))\n",
    "humid = np.random.uniform(low=10.0, high=40.0, size=(n,))\n",
    "light = np.random.uniform(low=0.0, high=1200.0, size=(n,))\n",
    "co2 = np.random.uniform(low=300.0, high=2000.0, size=(n,))\n",
    "humid_ratio = np.random.uniform(low=0.001, high=0.007, size=(n,))\n",
    "occupancy = np.zeros((n,))\n",
    "\n",
    "matrix_aux = np.vstack([temp, humid, light, co2, humid_ratio, occupancy])\n",
    "matrix = np.transpose(matrix_aux)\n",
    "df_input = pd.DataFrame(matrix, columns=['Temperature', 'Humidity', 'Light', 'CO2', 'HumidityRatio', 'Occupancy'])\n",
    "\n",
    "print(df_input)\n"
   ],
   "metadata": {
    "collapsed": false
   }
  },
  {
   "cell_type": "code",
   "execution_count": 119,
   "outputs": [
    {
     "name": "stdout",
     "output_type": "stream",
     "text": [
      "    Temperature  Humidity     Light       CO2  HumidityRatio  Occupancy\n",
      "0     -3.219282  2.448686  0.817953  1.711617      -0.039385  -0.963873\n",
      "1      2.361135  1.499881 -0.379489  0.245272       2.749593  -0.963873\n",
      "2     -4.214905 -2.294798  1.151292 -0.789343      -1.444308  -0.963873\n",
      "3      3.602083 -1.877038  2.212765  2.912810       0.750024  -0.963873\n",
      "4     -5.359227 -3.676349  1.752201 -0.461164      -4.660318  -0.963873\n",
      "5     -3.428492  0.963438  0.746359  2.032360       3.288324  -0.963873\n",
      "6      6.847910 -1.970052  1.610446  0.356102      -0.900367  -0.963873\n",
      "7      1.559455  2.064615 -0.931659  2.287378       0.770043  -0.963873\n",
      "8      6.479971 -3.181516  1.927951  2.708184       4.455042  -0.963873\n",
      "9      1.441781  1.283919  1.249592  1.076274      -2.851896  -0.963873\n",
      "10     1.904911 -1.534039 -0.408447  2.800345      -0.893199  -0.963873\n",
      "11    -1.429000  0.624538  1.787007 -0.341640      -1.216595  -0.963873\n",
      "12     7.324308 -0.985419 -0.780698  0.482614      -3.478692  -0.963873\n",
      "13     7.181056 -6.154891  0.616515 -1.128426      -0.537579  -0.963873\n",
      "14    -5.958040  3.114881  0.762566  2.758992      -1.527130  -0.963873\n"
     ]
    }
   ],
   "source": [
    "# Стандартизируем тестовые данные\n",
    "import pandas as pd\n",
    "\n",
    "input_scaled = scaler.transform(df_input)\n",
    "\n",
    "df_input_std = pd.DataFrame(input_scaled, columns=names)\n",
    "print(df_input_std)\n"
   ],
   "metadata": {
    "collapsed": false
   }
  },
  {
   "cell_type": "code",
   "execution_count": 120,
   "outputs": [
    {
     "name": "stdout",
     "output_type": "stream",
     "text": [
      "    Temperature   Humidity       Light          CO2  HumidityRatio  Occupancy\n",
      "1     24.165500  29.480464  151.836255   848.832122       0.005877        0.0\n",
      "7     23.299334  30.895699   11.024128  1471.714233       0.004622        0.0\n",
      "9     23.172194  28.939258  567.277554  1102.303801       0.002324        0.0\n",
      "10    23.672578  21.877401  144.451501  1628.179072       0.003566        0.0\n",
      "11    20.070492  27.286837  704.326867   669.812453       0.003361        0.0 \n",
      "\n",
      "    Temperature  Humidity     Light       CO2  HumidityRatio  Occupancy\n",
      "1      2.361135  1.499881 -0.379489  0.245272       2.749593  -0.963873\n",
      "7      1.559455  2.064615 -0.931659  2.287378       0.770043  -0.963873\n",
      "9      1.441781  1.283919  1.249592  1.076274      -2.851896  -0.963873\n",
      "10     1.904911 -1.534039 -0.408447  2.800345      -0.893199  -0.963873\n",
      "11    -1.429000  0.624538  1.787007 -0.341640      -1.216595  -0.963873\n"
     ]
    }
   ],
   "source": [
    "# Удаляем значения вне доверительного интервала\n",
    "std = df_std.std()\n",
    "\n",
    "for_deletion = df_input_std.index[\n",
    "    (df_input_std.Temperature < (-3 * std.Temperature)) |\n",
    "    (df_input_std.Temperature > (3 * std.Temperature)) |\n",
    "    (df_input_std.Humidity < (-3 * std.Humidity)) |\n",
    "    (df_input_std.Humidity > (3 * std.Humidity)) |\n",
    "    (df_input_std.Light < (-3 * std.Light)) |\n",
    "    (df_input_std.Light > (3 * std.Light)) |\n",
    "    (df_input_std.CO2 < (-3 * std.CO2)) |\n",
    "    (df_input_std.CO2 > (3 * std.CO2)) |\n",
    "    (df_input_std.HumidityRatio < (-3 * std.HumidityRatio)) |\n",
    "    (df_input_std.HumidityRatio > (3 * std.HumidityRatio))\n",
    "    ].tolist()\n",
    "\n",
    "df_input_clean = df_input.drop(for_deletion)\n",
    "df_input_clean_std = df_input_std.drop(for_deletion)\n",
    "\n",
    "print(df_input_clean, '\\n')\n",
    "print(df_input_clean_std)\n"
   ],
   "metadata": {
    "collapsed": false
   }
  },
  {
   "cell_type": "code",
   "execution_count": 121,
   "outputs": [
    {
     "name": "stdout",
     "output_type": "stream",
     "text": [
      "    Temperature   Humidity       Light          CO2  HumidityRatio  Occupancy  \\\n",
      "1     24.165500  29.480464  151.836255   848.832122       0.005877          1   \n",
      "7     23.299334  30.895699   11.024128  1471.714233       0.004622          0   \n",
      "9     23.172194  28.939258  567.277554  1102.303801       0.002324          1   \n",
      "10    23.672578  21.877401  144.451501  1628.179072       0.003566          0   \n",
      "11    20.070492  27.286837  704.326867   669.812453       0.003361          1   \n",
      "\n",
      "    Probability0  Probability1  \n",
      "1            0.0           1.0  \n",
      "7            1.0           0.0  \n",
      "9            0.1           0.9  \n",
      "10           0.9           0.1  \n",
      "11           0.0           1.0  \n"
     ]
    }
   ],
   "source": [
    "# Подаем полученные данные на вход классификатору\n",
    "\n",
    "input_x = df_input_clean_std.iloc[:, :-1].values\n",
    "\n",
    "input_y = classifier.predict(input_x)\n",
    "probs = classifier.predict_proba(input_x)\n",
    "probs = np.transpose(probs)\n",
    "\n",
    "df_input_clean.Occupancy = input_y\n",
    "df_input_clean['Probability0'] = probs[0]\n",
    "df_input_clean['Probability1'] = probs[1]\n",
    "\n",
    "print(df_input_clean)\n"
   ],
   "metadata": {
    "collapsed": false
   }
  }
 ],
 "metadata": {
  "kernelspec": {
   "display_name": "Python 3",
   "language": "python",
   "name": "python3"
  },
  "language_info": {
   "codemirror_mode": {
    "name": "ipython",
    "version": 2
   },
   "file_extension": ".py",
   "mimetype": "text/x-python",
   "name": "python",
   "nbconvert_exporter": "python",
   "pygments_lexer": "ipython2",
   "version": "2.7.6"
  }
 },
 "nbformat": 4,
 "nbformat_minor": 0
}
