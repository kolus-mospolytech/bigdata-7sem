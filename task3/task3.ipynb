{
 "cells": [
  {
   "cell_type": "code",
   "execution_count": 6,
   "metadata": {
    "collapsed": true
   },
   "outputs": [
    {
     "name": "stdout",
     "output_type": "stream",
     "text": [
      "Матрица ошибок:\n",
      " [[246   5]\n",
      " [  1 251]] \n",
      "\n",
      "Точность:\n",
      " 0.9880715705765407 \n",
      "\n"
     ]
    }
   ],
   "source": [
    "import pandas as pd\n",
    "from sklearn.metrics import confusion_matrix, accuracy_score\n",
    "from sklearn.model_selection import train_test_split\n",
    "from sklearn.neighbors import KNeighborsClassifier\n",
    "\n",
    "df_std = pd.read_csv(\"data/occupancy_even_standardized.csv\")\n",
    "df = pd.read_csv(\"data/occupancy_even.csv\")\n",
    "\n",
    "x = df_std.iloc[:, :-1].values  # все колонки до последней - переменные функции\n",
    "y = df.iloc[:, -1].values  # в качестве результирующего значения берем последнюю колонку\n",
    "\n",
    "# делим набор данных на обучающий и тестовый\n",
    "x_train, x_test, y_train, y_test = train_test_split(x, y, test_size=0.25)\n",
    "\n",
    "classifier = KNeighborsClassifier(n_neighbors=10)\n",
    "classifier.fit(x_train, y_train)  # идентифицирует и изучает параметры модели из обучающего набора данных\n",
    "\n",
    "y_pred = classifier.predict(x_test)  # прогноз на основе тестовых данных\n",
    "\n",
    "# текстовый отчет, показывающий основные показатели классификации\n",
    "# print(\"Отчет:\\n\", classification_report(y_test, y_pred), \"\\n\")\n",
    "\n",
    "# вычисляет матрицу ошибок для оценки точности классификации\n",
    "print(\"Матрица ошибок:\\n\", confusion_matrix(y_test, y_pred), \"\\n\")\n",
    "\n",
    "# классификационная оценка точности\n",
    "print(\"Точность:\\n\", accuracy_score(y_test, y_pred), \"\\n\")\n"
   ]
  },
  {
   "cell_type": "code",
   "execution_count": null,
   "outputs": [],
   "source": [
    "import pandas as pd\n"
   ],
   "metadata": {
    "collapsed": false
   }
  }
 ],
 "metadata": {
  "kernelspec": {
   "display_name": "Python 3",
   "language": "python",
   "name": "python3"
  },
  "language_info": {
   "codemirror_mode": {
    "name": "ipython",
    "version": 2
   },
   "file_extension": ".py",
   "mimetype": "text/x-python",
   "name": "python",
   "nbconvert_exporter": "python",
   "pygments_lexer": "ipython2",
   "version": "2.7.6"
  }
 },
 "nbformat": 4,
 "nbformat_minor": 0
}
