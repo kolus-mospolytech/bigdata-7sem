{
 "cells": [
  {
   "cell_type": "code",
   "execution_count": 65,
   "metadata": {
    "collapsed": true
   },
   "outputs": [],
   "source": [
    "# Стандартизация\n",
    "import pandas as pd\n",
    "from sklearn import preprocessing\n",
    "\n",
    "df = pd.read_csv('data/occupancy_even.csv')\n",
    "\n",
    "scaler = preprocessing.StandardScaler()\n",
    "\n",
    "names = df.columns\n",
    "scaled_data = scaler.fit_transform(df)\n",
    "\n",
    "df_std = pd.DataFrame(scaled_data, columns=names)\n"
   ]
  },
  {
   "cell_type": "code",
   "execution_count": 66,
   "outputs": [
    {
     "data": {
      "text/plain": "DecisionTreeClassifier()",
      "text/html": "<style>#sk-container-id-9 {color: black;background-color: white;}#sk-container-id-9 pre{padding: 0;}#sk-container-id-9 div.sk-toggleable {background-color: white;}#sk-container-id-9 label.sk-toggleable__label {cursor: pointer;display: block;width: 100%;margin-bottom: 0;padding: 0.3em;box-sizing: border-box;text-align: center;}#sk-container-id-9 label.sk-toggleable__label-arrow:before {content: \"▸\";float: left;margin-right: 0.25em;color: #696969;}#sk-container-id-9 label.sk-toggleable__label-arrow:hover:before {color: black;}#sk-container-id-9 div.sk-estimator:hover label.sk-toggleable__label-arrow:before {color: black;}#sk-container-id-9 div.sk-toggleable__content {max-height: 0;max-width: 0;overflow: hidden;text-align: left;background-color: #f0f8ff;}#sk-container-id-9 div.sk-toggleable__content pre {margin: 0.2em;color: black;border-radius: 0.25em;background-color: #f0f8ff;}#sk-container-id-9 input.sk-toggleable__control:checked~div.sk-toggleable__content {max-height: 200px;max-width: 100%;overflow: auto;}#sk-container-id-9 input.sk-toggleable__control:checked~label.sk-toggleable__label-arrow:before {content: \"▾\";}#sk-container-id-9 div.sk-estimator input.sk-toggleable__control:checked~label.sk-toggleable__label {background-color: #d4ebff;}#sk-container-id-9 div.sk-label input.sk-toggleable__control:checked~label.sk-toggleable__label {background-color: #d4ebff;}#sk-container-id-9 input.sk-hidden--visually {border: 0;clip: rect(1px 1px 1px 1px);clip: rect(1px, 1px, 1px, 1px);height: 1px;margin: -1px;overflow: hidden;padding: 0;position: absolute;width: 1px;}#sk-container-id-9 div.sk-estimator {font-family: monospace;background-color: #f0f8ff;border: 1px dotted black;border-radius: 0.25em;box-sizing: border-box;margin-bottom: 0.5em;}#sk-container-id-9 div.sk-estimator:hover {background-color: #d4ebff;}#sk-container-id-9 div.sk-parallel-item::after {content: \"\";width: 100%;border-bottom: 1px solid gray;flex-grow: 1;}#sk-container-id-9 div.sk-label:hover label.sk-toggleable__label {background-color: #d4ebff;}#sk-container-id-9 div.sk-serial::before {content: \"\";position: absolute;border-left: 1px solid gray;box-sizing: border-box;top: 0;bottom: 0;left: 50%;z-index: 0;}#sk-container-id-9 div.sk-serial {display: flex;flex-direction: column;align-items: center;background-color: white;padding-right: 0.2em;padding-left: 0.2em;position: relative;}#sk-container-id-9 div.sk-item {position: relative;z-index: 1;}#sk-container-id-9 div.sk-parallel {display: flex;align-items: stretch;justify-content: center;background-color: white;position: relative;}#sk-container-id-9 div.sk-item::before, #sk-container-id-9 div.sk-parallel-item::before {content: \"\";position: absolute;border-left: 1px solid gray;box-sizing: border-box;top: 0;bottom: 0;left: 50%;z-index: -1;}#sk-container-id-9 div.sk-parallel-item {display: flex;flex-direction: column;z-index: 1;position: relative;background-color: white;}#sk-container-id-9 div.sk-parallel-item:first-child::after {align-self: flex-end;width: 50%;}#sk-container-id-9 div.sk-parallel-item:last-child::after {align-self: flex-start;width: 50%;}#sk-container-id-9 div.sk-parallel-item:only-child::after {width: 0;}#sk-container-id-9 div.sk-dashed-wrapped {border: 1px dashed gray;margin: 0 0.4em 0.5em 0.4em;box-sizing: border-box;padding-bottom: 0.4em;background-color: white;}#sk-container-id-9 div.sk-label label {font-family: monospace;font-weight: bold;display: inline-block;line-height: 1.2em;}#sk-container-id-9 div.sk-label-container {text-align: center;}#sk-container-id-9 div.sk-container {/* jupyter's `normalize.less` sets `[hidden] { display: none; }` but bootstrap.min.css set `[hidden] { display: none !important; }` so we also need the `!important` here to be able to override the default hidden behavior on the sphinx rendered scikit-learn.org. See: https://github.com/scikit-learn/scikit-learn/issues/21755 */display: inline-block !important;position: relative;}#sk-container-id-9 div.sk-text-repr-fallback {display: none;}</style><div id=\"sk-container-id-9\" class=\"sk-top-container\"><div class=\"sk-text-repr-fallback\"><pre>DecisionTreeClassifier()</pre><b>In a Jupyter environment, please rerun this cell to show the HTML representation or trust the notebook. <br />On GitHub, the HTML representation is unable to render, please try loading this page with nbviewer.org.</b></div><div class=\"sk-container\" hidden><div class=\"sk-item\"><div class=\"sk-estimator sk-toggleable\"><input class=\"sk-toggleable__control sk-hidden--visually\" id=\"sk-estimator-id-9\" type=\"checkbox\" checked><label for=\"sk-estimator-id-9\" class=\"sk-toggleable__label sk-toggleable__label-arrow\">DecisionTreeClassifier</label><div class=\"sk-toggleable__content\"><pre>DecisionTreeClassifier()</pre></div></div></div></div></div>"
     },
     "execution_count": 66,
     "metadata": {},
     "output_type": "execute_result"
    }
   ],
   "source": [
    "# Создание и обучение классификатора\n",
    "from sklearn import tree\n",
    "from sklearn.metrics import confusion_matrix, accuracy_score\n",
    "from sklearn.model_selection import train_test_split\n",
    "\n",
    "x = df_std.iloc[:, :-1].values  # все колонки до последней - переменные функции\n",
    "y = df.iloc[:, -1].values  # в качестве результирующего значения берем последнюю колонку\n",
    "\n",
    "# делим набор данных на обучающий и тестовый\n",
    "x_train, x_test, y_train, y_test = train_test_split(x, y, test_size=0.25)\n",
    "\n",
    "classifier = tree.DecisionTreeClassifier()\n",
    "classifier.fit(x_train, y_train)  # идентифицирует и изучает параметры модели из обучающего набора данных\n",
    "# tree.plot_tree(classifier)"
   ],
   "metadata": {
    "collapsed": false
   }
  },
  {
   "cell_type": "code",
   "execution_count": 67,
   "outputs": [
    {
     "data": {
      "text/plain": "'output/tree.pdf'"
     },
     "execution_count": 67,
     "metadata": {},
     "output_type": "execute_result"
    }
   ],
   "source": [
    "# Рисуем график\n",
    "import graphviz\n",
    "\n",
    "dot_data = tree.export_graphviz(classifier,\n",
    "                                out_file=None,\n",
    "                                feature_names=df.columns[:-1],\n",
    "                                class_names=['Unoccupied', 'Occupied'],\n",
    "                                filled=True,\n",
    "                                rounded=True,\n",
    "                                special_characters=True\n",
    "                                )\n",
    "graph = graphviz.Source(dot_data)\n",
    "graph.render('output/tree')"
   ],
   "metadata": {
    "collapsed": false
   }
  },
  {
   "cell_type": "code",
   "execution_count": 68,
   "outputs": [
    {
     "name": "stdout",
     "output_type": "stream",
     "text": [
      "Точность:\n",
      " 0.9821073558648111 \n",
      "\n",
      "Матрица ошибок:\n",
      " [[246   2]\n",
      " [  7 248]] \n",
      "\n"
     ]
    }
   ],
   "source": [
    "# Оценка качества классификатора\n",
    "y_pred = classifier.predict(x_test)  # прогноз на основе тестовых данных\n",
    "\n",
    "# классификационная оценка точности\n",
    "print(\"Точность:\\n\", accuracy_score(y_test, y_pred), \"\\n\")\n",
    "\n",
    "# вычисляет матрицу ошибок для оценки точности классификации\n",
    "print(\"Матрица ошибок:\\n\", confusion_matrix(y_test, y_pred), \"\\n\")\n"
   ],
   "metadata": {
    "collapsed": false
   }
  },
  {
   "cell_type": "code",
   "execution_count": 69,
   "outputs": [
    {
     "name": "stdout",
     "output_type": "stream",
     "text": [
      "    Temperature   Humidity        Light          CO2  HumidityRatio  Occupancy\n",
      "0     25.007822  13.807833  1091.602204  1504.316816       0.006373        0.0\n",
      "1     18.107378  34.765113  1056.903239  1162.647435       0.004068        0.0\n",
      "2     20.091952  38.389722  1107.109418   908.777899       0.002757        0.0\n",
      "3     23.704244  24.855881   387.038581  1505.315505       0.003040        0.0\n",
      "4     28.393993  20.291510    19.504580  1781.382770       0.001856        0.0\n",
      "5     16.903032  22.253616   185.051296  1886.232192       0.004324        0.0\n",
      "6     18.227400  17.155895   683.806482  1782.125370       0.003370        0.0\n",
      "7     24.686072  25.637688   575.171867  1423.301675       0.004758        0.0\n",
      "8     18.583200  30.034793  1010.081176   308.523012       0.001267        0.0\n",
      "9     29.004404  24.388549  1153.406937  1674.350474       0.006653        0.0\n",
      "10    19.675989  29.713697   842.335916  1516.344011       0.005953        0.0\n",
      "11    19.678864  32.095441  1146.090968   377.035730       0.006975        0.0\n",
      "12    22.511077  37.679013   176.915862  1239.659682       0.004509        0.0\n",
      "13    22.159633  39.854689   860.972057  1118.461338       0.002797        0.0\n",
      "14    22.452299  36.592026   172.424960  1360.111788       0.003078        0.0\n"
     ]
    }
   ],
   "source": [
    "# Генератор входных данных\n",
    "import pandas as pd\n",
    "import numpy as np\n",
    "\n",
    "n = 15  # количество входных объектов\n",
    "\n",
    "# генерируем параметры в диапазоне, большем допустимого интервала\n",
    "temp = np.random.uniform(low=15.0, high=30.0, size=(n,))\n",
    "humid = np.random.uniform(low=10.0, high=40.0, size=(n,))\n",
    "light = np.random.uniform(low=0.0, high=1200.0, size=(n,))\n",
    "co2 = np.random.uniform(low=300.0, high=2000.0, size=(n,))\n",
    "humid_ratio = np.random.uniform(low=0.001, high=0.007, size=(n,))\n",
    "occupancy = np.zeros((n,))\n",
    "\n",
    "matrix_aux = np.vstack([temp, humid, light, co2, humid_ratio, occupancy])\n",
    "matrix = np.transpose(matrix_aux)\n",
    "df_input = pd.DataFrame(matrix, columns=['Temperature', 'Humidity', 'Light', 'CO2', 'HumidityRatio', 'Occupancy'])\n",
    "\n",
    "print(df_input)\n"
   ],
   "metadata": {
    "collapsed": false
   }
  },
  {
   "cell_type": "code",
   "execution_count": 70,
   "outputs": [
    {
     "name": "stdout",
     "output_type": "stream",
     "text": [
      "    Temperature  Humidity     Light       CO2  HumidityRatio  Occupancy\n",
      "0      3.140746 -4.754112  3.305640  2.394265       3.531204  -0.963873\n",
      "1     -3.245960  3.608663  3.169574  1.274109      -0.103137  -0.963873\n",
      "2     -1.409137  5.055024  3.366448  0.441803      -2.168798  -0.963873\n",
      "3      1.934220 -0.345509  0.542816  2.397540      -1.722717  -0.963873\n",
      "4      6.274817 -2.166872 -0.898405  3.302620      -3.589527  -0.963873\n",
      "5     -4.360642 -1.383914 -0.249242  3.646367       0.301180  -0.963873\n",
      "6     -3.134873 -3.418104  1.706540  3.305055      -1.202519  -0.963873\n",
      "7      2.842950 -0.033537  1.280548  2.128659       0.985750  -0.963873\n",
      "8     -2.805563  1.721080  2.985969 -1.526120      -4.517788  -0.963873\n",
      "9      6.839783 -0.531992  3.547996  2.951717       3.971757  -0.963873\n",
      "10    -1.794132  1.592950  2.328185  2.433696       2.868462  -0.963873\n",
      "11    -1.791471  2.543359  3.519308 -1.301503       4.480130  -0.963873\n",
      "12     0.829884  4.771423 -0.281144  1.526592       0.592261  -0.963873\n",
      "13     0.504605  5.639603  2.401264  1.129246      -2.106047  -0.963873\n",
      "14     0.775482  4.337673 -0.298754  1.921492      -1.663098  -0.963873\n"
     ]
    }
   ],
   "source": [
    "# Стандартизируем тестовые данные\n",
    "import pandas as pd\n",
    "\n",
    "input_scaled = scaler.transform(df_input)\n",
    "\n",
    "df_input_std = pd.DataFrame(input_scaled, columns=names)\n",
    "print(df_input_std)\n"
   ],
   "metadata": {
    "collapsed": false
   }
  },
  {
   "cell_type": "code",
   "execution_count": 71,
   "outputs": [
    {
     "name": "stdout",
     "output_type": "stream",
     "text": [
      "    Temperature   Humidity       Light          CO2  HumidityRatio  Occupancy\n",
      "3     23.704244  24.855881  387.038581  1505.315505       0.003040        0.0\n",
      "7     24.686072  25.637688  575.171867  1423.301675       0.004758        0.0\n",
      "10    19.675989  29.713697  842.335916  1516.344011       0.005953        0.0 \n",
      "\n",
      "    Temperature  Humidity     Light       CO2  HumidityRatio  Occupancy\n",
      "3      1.934220 -0.345509  0.542816  2.397540      -1.722717  -0.963873\n",
      "7      2.842950 -0.033537  1.280548  2.128659       0.985750  -0.963873\n",
      "10    -1.794132  1.592950  2.328185  2.433696       2.868462  -0.963873\n"
     ]
    }
   ],
   "source": [
    "# Удаляем значения вне доверительного интервала\n",
    "std = df_std.std()\n",
    "\n",
    "for_deletion = df_input_std.index[\n",
    "    (df_input_std.Temperature < (-3 * std.Temperature)) |\n",
    "    (df_input_std.Temperature > (3 * std.Temperature)) |\n",
    "    (df_input_std.Humidity < (-3 * std.Humidity)) |\n",
    "    (df_input_std.Humidity > (3 * std.Humidity)) |\n",
    "    (df_input_std.Light < (-3 * std.Light)) |\n",
    "    (df_input_std.Light > (3 * std.Light)) |\n",
    "    (df_input_std.CO2 < (-3 * std.CO2)) |\n",
    "    (df_input_std.CO2 > (3 * std.CO2)) |\n",
    "    (df_input_std.HumidityRatio < (-3 * std.HumidityRatio)) |\n",
    "    (df_input_std.HumidityRatio > (3 * std.HumidityRatio))\n",
    "    ].tolist()\n",
    "\n",
    "df_input_clean = df_input.drop(for_deletion)\n",
    "df_input_clean_std = df_input_std.drop(for_deletion)\n",
    "\n",
    "print(df_input_clean, '\\n')\n",
    "print(df_input_clean_std)\n"
   ],
   "metadata": {
    "collapsed": false
   }
  },
  {
   "cell_type": "code",
   "execution_count": 72,
   "outputs": [
    {
     "name": "stdout",
     "output_type": "stream",
     "text": [
      "    Temperature   Humidity       Light          CO2  HumidityRatio  Occupancy  \\\n",
      "3     23.704244  24.855881  387.038581  1505.315505       0.003040          0   \n",
      "7     24.686072  25.637688  575.171867  1423.301675       0.004758          1   \n",
      "10    19.675989  29.713697  842.335916  1516.344011       0.005953          0   \n",
      "\n",
      "    Probability0  Probability1  \n",
      "3            1.0           0.0  \n",
      "7            0.0           1.0  \n",
      "10           1.0           0.0  \n"
     ]
    }
   ],
   "source": [
    "# Подаем полученные данные на вход классификатору\n",
    "\n",
    "input_x = df_input_clean_std.iloc[:, :-1].values\n",
    "\n",
    "input_y = classifier.predict(input_x)\n",
    "probs = classifier.predict_proba(input_x)\n",
    "probs = np.transpose(probs)\n",
    "\n",
    "df_input_clean.Occupancy = input_y\n",
    "df_input_clean['Probability0'] = probs[0]\n",
    "df_input_clean['Probability1'] = probs[1]\n",
    "\n",
    "print(df_input_clean)\n"
   ],
   "metadata": {
    "collapsed": false
   }
  }
 ],
 "metadata": {
  "kernelspec": {
   "display_name": "Python 3",
   "language": "python",
   "name": "python3"
  },
  "language_info": {
   "codemirror_mode": {
    "name": "ipython",
    "version": 2
   },
   "file_extension": ".py",
   "mimetype": "text/x-python",
   "name": "python",
   "nbconvert_exporter": "python",
   "pygments_lexer": "ipython2",
   "version": "2.7.6"
  }
 },
 "nbformat": 4,
 "nbformat_minor": 0
}
