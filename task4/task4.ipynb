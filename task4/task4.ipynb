{
 "cells": [
  {
   "cell_type": "code",
   "execution_count": 2,
   "metadata": {
    "collapsed": true
   },
   "outputs": [],
   "source": [
    "# Стандартизация\n",
    "import pandas as pd\n",
    "from sklearn import preprocessing\n",
    "\n",
    "df = pd.read_csv('data/occupancy_even.csv')\n",
    "\n",
    "scaler = preprocessing.StandardScaler()\n",
    "\n",
    "names = df.columns\n",
    "scaled_data = scaler.fit_transform(df)\n",
    "\n",
    "df_std = pd.DataFrame(scaled_data, columns=names)\n"
   ]
  },
  {
   "cell_type": "code",
   "execution_count": 3,
   "outputs": [
    {
     "data": {
      "text/plain": "DecisionTreeClassifier(min_samples_leaf=60)",
      "text/html": "<style>#sk-container-id-1 {color: black;background-color: white;}#sk-container-id-1 pre{padding: 0;}#sk-container-id-1 div.sk-toggleable {background-color: white;}#sk-container-id-1 label.sk-toggleable__label {cursor: pointer;display: block;width: 100%;margin-bottom: 0;padding: 0.3em;box-sizing: border-box;text-align: center;}#sk-container-id-1 label.sk-toggleable__label-arrow:before {content: \"▸\";float: left;margin-right: 0.25em;color: #696969;}#sk-container-id-1 label.sk-toggleable__label-arrow:hover:before {color: black;}#sk-container-id-1 div.sk-estimator:hover label.sk-toggleable__label-arrow:before {color: black;}#sk-container-id-1 div.sk-toggleable__content {max-height: 0;max-width: 0;overflow: hidden;text-align: left;background-color: #f0f8ff;}#sk-container-id-1 div.sk-toggleable__content pre {margin: 0.2em;color: black;border-radius: 0.25em;background-color: #f0f8ff;}#sk-container-id-1 input.sk-toggleable__control:checked~div.sk-toggleable__content {max-height: 200px;max-width: 100%;overflow: auto;}#sk-container-id-1 input.sk-toggleable__control:checked~label.sk-toggleable__label-arrow:before {content: \"▾\";}#sk-container-id-1 div.sk-estimator input.sk-toggleable__control:checked~label.sk-toggleable__label {background-color: #d4ebff;}#sk-container-id-1 div.sk-label input.sk-toggleable__control:checked~label.sk-toggleable__label {background-color: #d4ebff;}#sk-container-id-1 input.sk-hidden--visually {border: 0;clip: rect(1px 1px 1px 1px);clip: rect(1px, 1px, 1px, 1px);height: 1px;margin: -1px;overflow: hidden;padding: 0;position: absolute;width: 1px;}#sk-container-id-1 div.sk-estimator {font-family: monospace;background-color: #f0f8ff;border: 1px dotted black;border-radius: 0.25em;box-sizing: border-box;margin-bottom: 0.5em;}#sk-container-id-1 div.sk-estimator:hover {background-color: #d4ebff;}#sk-container-id-1 div.sk-parallel-item::after {content: \"\";width: 100%;border-bottom: 1px solid gray;flex-grow: 1;}#sk-container-id-1 div.sk-label:hover label.sk-toggleable__label {background-color: #d4ebff;}#sk-container-id-1 div.sk-serial::before {content: \"\";position: absolute;border-left: 1px solid gray;box-sizing: border-box;top: 0;bottom: 0;left: 50%;z-index: 0;}#sk-container-id-1 div.sk-serial {display: flex;flex-direction: column;align-items: center;background-color: white;padding-right: 0.2em;padding-left: 0.2em;position: relative;}#sk-container-id-1 div.sk-item {position: relative;z-index: 1;}#sk-container-id-1 div.sk-parallel {display: flex;align-items: stretch;justify-content: center;background-color: white;position: relative;}#sk-container-id-1 div.sk-item::before, #sk-container-id-1 div.sk-parallel-item::before {content: \"\";position: absolute;border-left: 1px solid gray;box-sizing: border-box;top: 0;bottom: 0;left: 50%;z-index: -1;}#sk-container-id-1 div.sk-parallel-item {display: flex;flex-direction: column;z-index: 1;position: relative;background-color: white;}#sk-container-id-1 div.sk-parallel-item:first-child::after {align-self: flex-end;width: 50%;}#sk-container-id-1 div.sk-parallel-item:last-child::after {align-self: flex-start;width: 50%;}#sk-container-id-1 div.sk-parallel-item:only-child::after {width: 0;}#sk-container-id-1 div.sk-dashed-wrapped {border: 1px dashed gray;margin: 0 0.4em 0.5em 0.4em;box-sizing: border-box;padding-bottom: 0.4em;background-color: white;}#sk-container-id-1 div.sk-label label {font-family: monospace;font-weight: bold;display: inline-block;line-height: 1.2em;}#sk-container-id-1 div.sk-label-container {text-align: center;}#sk-container-id-1 div.sk-container {/* jupyter's `normalize.less` sets `[hidden] { display: none; }` but bootstrap.min.css set `[hidden] { display: none !important; }` so we also need the `!important` here to be able to override the default hidden behavior on the sphinx rendered scikit-learn.org. See: https://github.com/scikit-learn/scikit-learn/issues/21755 */display: inline-block !important;position: relative;}#sk-container-id-1 div.sk-text-repr-fallback {display: none;}</style><div id=\"sk-container-id-1\" class=\"sk-top-container\"><div class=\"sk-text-repr-fallback\"><pre>DecisionTreeClassifier(min_samples_leaf=60)</pre><b>In a Jupyter environment, please rerun this cell to show the HTML representation or trust the notebook. <br />On GitHub, the HTML representation is unable to render, please try loading this page with nbviewer.org.</b></div><div class=\"sk-container\" hidden><div class=\"sk-item\"><div class=\"sk-estimator sk-toggleable\"><input class=\"sk-toggleable__control sk-hidden--visually\" id=\"sk-estimator-id-1\" type=\"checkbox\" checked><label for=\"sk-estimator-id-1\" class=\"sk-toggleable__label sk-toggleable__label-arrow\">DecisionTreeClassifier</label><div class=\"sk-toggleable__content\"><pre>DecisionTreeClassifier(min_samples_leaf=60)</pre></div></div></div></div></div>"
     },
     "execution_count": 3,
     "metadata": {},
     "output_type": "execute_result"
    }
   ],
   "source": [
    "# Создание и обучение классификатора\n",
    "from sklearn import tree\n",
    "from sklearn.metrics import confusion_matrix, accuracy_score\n",
    "from sklearn.model_selection import train_test_split\n",
    "\n",
    "x = df_std.iloc[:, :-1].values  # все колонки до последней - переменные функции\n",
    "y = df.iloc[:, -1].values  # в качестве результирующего значения берем последнюю колонку\n",
    "\n",
    "# делим набор данных на обучающий и тестовый\n",
    "x_train, x_test, y_train, y_test = train_test_split(x, y, test_size=0.25)\n",
    "\n",
    "classifier = tree.DecisionTreeClassifier(min_samples_leaf=60)\n",
    "classifier.fit(x_train, y_train)  # идентифицирует и изучает параметры модели из обучающего набора данных\n",
    "# tree.plot_tree(classifier)"
   ],
   "metadata": {
    "collapsed": false
   }
  },
  {
   "cell_type": "code",
   "execution_count": 4,
   "outputs": [
    {
     "data": {
      "text/plain": "'output/tree.pdf'"
     },
     "execution_count": 4,
     "metadata": {},
     "output_type": "execute_result"
    }
   ],
   "source": [
    "# Рисуем график\n",
    "import graphviz\n",
    "\n",
    "dot_data = tree.export_graphviz(classifier,\n",
    "                                out_file=None,\n",
    "                                feature_names=df.columns[:-1],\n",
    "                                class_names=['Unoccupied', 'Occupied'],\n",
    "                                filled=True,\n",
    "                                rounded=True,\n",
    "                                special_characters=True\n",
    "                                )\n",
    "graph = graphviz.Source(dot_data)\n",
    "graph.render('output/tree')"
   ],
   "metadata": {
    "collapsed": false
   }
  },
  {
   "cell_type": "code",
   "execution_count": 5,
   "outputs": [
    {
     "name": "stdout",
     "output_type": "stream",
     "text": [
      "Точность:\n",
      " 0.9781312127236581 \n",
      "\n",
      "Матрица ошибок:\n",
      " [[239  11]\n",
      " [  0 253]] \n",
      "\n"
     ]
    }
   ],
   "source": [
    "# Оценка качества классификатора\n",
    "y_pred = classifier.predict(x_test)  # прогноз на основе тестовых данных\n",
    "\n",
    "# классификационная оценка точности\n",
    "print(\"Точность:\\n\", accuracy_score(y_test, y_pred), \"\\n\")\n",
    "\n",
    "# вычисляет матрицу ошибок для оценки точности классификации\n",
    "print(\"Матрица ошибок:\\n\", confusion_matrix(y_test, y_pred), \"\\n\")\n"
   ],
   "metadata": {
    "collapsed": false
   }
  },
  {
   "cell_type": "code",
   "execution_count": 6,
   "outputs": [
    {
     "name": "stdout",
     "output_type": "stream",
     "text": [
      "    Temperature   Humidity        Light          CO2  HumidityRatio  Occupancy\n",
      "0     28.170366  36.876765   669.326330   620.153845       0.006172        0.0\n",
      "1     24.638733  14.528771   826.513309   429.763502       0.006211        0.0\n",
      "2     29.472632  37.904375   779.179363   311.023523       0.004779        0.0\n",
      "3     26.779099  35.570384   666.384078  1045.183540       0.003446        0.0\n",
      "4     17.751959  38.095223   211.523061   997.972682       0.001768        0.0\n",
      "5     18.739060  20.317275   357.625879   638.623318       0.001080        0.0\n",
      "6     28.720234  12.636256   664.946722  1981.720170       0.006113        0.0\n",
      "7     20.137118  25.422324  1033.500983  1194.535175       0.001068        0.0\n",
      "8     21.652163  15.585008   294.188071  1274.020117       0.004730        0.0\n",
      "9     27.694934  35.441537   717.736865  1607.509046       0.003916        0.0\n",
      "10    18.874835  39.413387   994.975437  1161.800632       0.002696        0.0\n",
      "11    27.520555  29.751279   159.752174   859.429979       0.005411        0.0\n",
      "12    23.912924  36.803895  1170.791476   656.600199       0.002232        0.0\n",
      "13    17.831593  27.718459   166.634697  1957.147193       0.002746        0.0\n",
      "14    20.608280  26.946256   855.528314   500.291878       0.003073        0.0\n"
     ]
    }
   ],
   "source": [
    "# Генератор входных данных\n",
    "import pandas as pd\n",
    "import numpy as np\n",
    "\n",
    "n = 15  # количество входных объектов\n",
    "\n",
    "# генерируем параметры в диапазоне, большем допустимого интервала\n",
    "temp = np.random.uniform(low=15.0, high=30.0, size=(n,))\n",
    "humid = np.random.uniform(low=10.0, high=40.0, size=(n,))\n",
    "light = np.random.uniform(low=0.0, high=1200.0, size=(n,))\n",
    "co2 = np.random.uniform(low=300.0, high=2000.0, size=(n,))\n",
    "humid_ratio = np.random.uniform(low=0.001, high=0.007, size=(n,))\n",
    "occupancy = np.zeros((n,))\n",
    "\n",
    "matrix_aux = np.vstack([temp, humid, light, co2, humid_ratio, occupancy])\n",
    "matrix = np.transpose(matrix_aux)\n",
    "df_input = pd.DataFrame(matrix, columns=['Temperature', 'Humidity', 'Light', 'CO2', 'HumidityRatio', 'Occupancy'])\n",
    "\n",
    "print(df_input)\n"
   ],
   "metadata": {
    "collapsed": false
   }
  },
  {
   "cell_type": "code",
   "execution_count": 7,
   "outputs": [
    {
     "name": "stdout",
     "output_type": "stream",
     "text": [
      "    Temperature  Humidity     Light       CO2  HumidityRatio  Occupancy\n",
      "0      6.067839  4.451295  1.649758 -0.504445       3.214521  -0.963873\n",
      "1      2.799136 -4.466430  2.266140 -1.128636       3.275169  -0.963873\n",
      "2      7.273151  4.861351  2.080528 -1.517922       1.019039  -0.963873\n",
      "3      4.780151  3.929998  1.638221  0.889006      -1.083274  -0.963873\n",
      "4     -3.574918  4.937507 -0.145438  0.734226      -3.728444  -0.963873\n",
      "5     -2.661307 -2.156590  0.427479 -0.443893      -4.813147  -0.963873\n",
      "6      6.576769 -5.221617  1.632584  3.959423       3.121230  -0.963873\n",
      "7     -1.367334 -0.119476  3.077806  1.378653      -4.830776  -0.963873\n",
      "8      0.034916 -4.044950  0.178719  1.639242       0.941711  -0.963873\n",
      "9      5.627803  3.878582  1.839592  2.732579      -0.341929  -0.963873\n",
      "10    -2.535640  5.463506  2.926734  1.271333      -2.265874  -0.963873\n",
      "11     5.466406  1.607947 -0.348448  0.280017       2.014561  -0.963873\n",
      "12     2.127363  4.422217  3.616166 -0.384956      -2.996939  -0.963873\n",
      "13    -3.501213  0.796772 -0.321460  3.878861      -2.186369  -0.963873\n",
      "14    -0.931250  0.488633  2.379917 -0.897410      -1.671001  -0.963873\n"
     ]
    }
   ],
   "source": [
    "# Стандартизируем тестовые данные\n",
    "import pandas as pd\n",
    "\n",
    "input_scaled = scaler.transform(df_input)\n",
    "\n",
    "df_input_std = pd.DataFrame(input_scaled, columns=names)\n",
    "print(df_input_std)\n"
   ],
   "metadata": {
    "collapsed": false
   }
  },
  {
   "cell_type": "code",
   "execution_count": 8,
   "outputs": [
    {
     "name": "stdout",
     "output_type": "stream",
     "text": [
      "    Temperature   Humidity       Light         CO2  HumidityRatio  Occupancy\n",
      "14     20.60828  26.946256  855.528314  500.291878       0.003073        0.0 \n",
      "\n",
      "    Temperature  Humidity     Light      CO2  HumidityRatio  Occupancy\n",
      "14     -0.93125  0.488633  2.379917 -0.89741      -1.671001  -0.963873\n"
     ]
    }
   ],
   "source": [
    "# Удаляем значения вне доверительного интервала\n",
    "std = df_std.std()\n",
    "\n",
    "for_deletion = df_input_std.index[\n",
    "    (df_input_std.Temperature < (-3 * std.Temperature)) |\n",
    "    (df_input_std.Temperature > (3 * std.Temperature)) |\n",
    "    (df_input_std.Humidity < (-3 * std.Humidity)) |\n",
    "    (df_input_std.Humidity > (3 * std.Humidity)) |\n",
    "    (df_input_std.Light < (-3 * std.Light)) |\n",
    "    (df_input_std.Light > (3 * std.Light)) |\n",
    "    (df_input_std.CO2 < (-3 * std.CO2)) |\n",
    "    (df_input_std.CO2 > (3 * std.CO2)) |\n",
    "    (df_input_std.HumidityRatio < (-3 * std.HumidityRatio)) |\n",
    "    (df_input_std.HumidityRatio > (3 * std.HumidityRatio))\n",
    "    ].tolist()\n",
    "\n",
    "df_input_clean = df_input.drop(for_deletion)\n",
    "df_input_clean_std = df_input_std.drop(for_deletion)\n",
    "\n",
    "print(df_input_clean, '\\n')\n",
    "print(df_input_clean_std)\n"
   ],
   "metadata": {
    "collapsed": false
   }
  },
  {
   "cell_type": "code",
   "execution_count": 9,
   "outputs": [
    {
     "name": "stdout",
     "output_type": "stream",
     "text": [
      "    Temperature   Humidity       Light         CO2  HumidityRatio  Occupancy  \\\n",
      "14     20.60828  26.946256  855.528314  500.291878       0.003073          1   \n",
      "\n",
      "    Probability0  Probability1  \n",
      "14      0.027523      0.972477  \n"
     ]
    }
   ],
   "source": [
    "# Подаем полученные данные на вход классификатору\n",
    "\n",
    "input_x = df_input_clean_std.iloc[:, :-1].values\n",
    "\n",
    "input_y = classifier.predict(input_x)\n",
    "probs = classifier.predict_proba(input_x)\n",
    "probs = np.transpose(probs)\n",
    "\n",
    "df_input_clean.Occupancy = input_y\n",
    "df_input_clean['Probability0'] = probs[0]\n",
    "df_input_clean['Probability1'] = probs[1]\n",
    "\n",
    "print(df_input_clean)\n"
   ],
   "metadata": {
    "collapsed": false
   }
  }
 ],
 "metadata": {
  "kernelspec": {
   "display_name": "Python 3",
   "language": "python",
   "name": "python3"
  },
  "language_info": {
   "codemirror_mode": {
    "name": "ipython",
    "version": 2
   },
   "file_extension": ".py",
   "mimetype": "text/x-python",
   "name": "python",
   "nbconvert_exporter": "python",
   "pygments_lexer": "ipython2",
   "version": "2.7.6"
  }
 },
 "nbformat": 4,
 "nbformat_minor": 0
}
