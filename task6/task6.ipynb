{
 "cells": [
  {
   "cell_type": "code",
   "execution_count": 22,
   "outputs": [],
   "source": [
    "# Стандартизация\n",
    "import pandas as pd\n",
    "from sklearn import preprocessing\n",
    "\n",
    "df = pd.read_csv('data/occupancy_even.csv')\n",
    "\n",
    "scaler = preprocessing.StandardScaler()\n",
    "\n",
    "names = df.columns\n",
    "scaled_data = scaler.fit_transform(df)\n",
    "\n",
    "df_std = pd.DataFrame(scaled_data, columns=names)\n"
   ],
   "metadata": {
    "collapsed": false
   }
  },
  {
   "cell_type": "code",
   "execution_count": 23,
   "outputs": [
    {
     "data": {
      "text/plain": "SVC(probability=True)",
      "text/html": "<style>#sk-container-id-4 {color: black;background-color: white;}#sk-container-id-4 pre{padding: 0;}#sk-container-id-4 div.sk-toggleable {background-color: white;}#sk-container-id-4 label.sk-toggleable__label {cursor: pointer;display: block;width: 100%;margin-bottom: 0;padding: 0.3em;box-sizing: border-box;text-align: center;}#sk-container-id-4 label.sk-toggleable__label-arrow:before {content: \"▸\";float: left;margin-right: 0.25em;color: #696969;}#sk-container-id-4 label.sk-toggleable__label-arrow:hover:before {color: black;}#sk-container-id-4 div.sk-estimator:hover label.sk-toggleable__label-arrow:before {color: black;}#sk-container-id-4 div.sk-toggleable__content {max-height: 0;max-width: 0;overflow: hidden;text-align: left;background-color: #f0f8ff;}#sk-container-id-4 div.sk-toggleable__content pre {margin: 0.2em;color: black;border-radius: 0.25em;background-color: #f0f8ff;}#sk-container-id-4 input.sk-toggleable__control:checked~div.sk-toggleable__content {max-height: 200px;max-width: 100%;overflow: auto;}#sk-container-id-4 input.sk-toggleable__control:checked~label.sk-toggleable__label-arrow:before {content: \"▾\";}#sk-container-id-4 div.sk-estimator input.sk-toggleable__control:checked~label.sk-toggleable__label {background-color: #d4ebff;}#sk-container-id-4 div.sk-label input.sk-toggleable__control:checked~label.sk-toggleable__label {background-color: #d4ebff;}#sk-container-id-4 input.sk-hidden--visually {border: 0;clip: rect(1px 1px 1px 1px);clip: rect(1px, 1px, 1px, 1px);height: 1px;margin: -1px;overflow: hidden;padding: 0;position: absolute;width: 1px;}#sk-container-id-4 div.sk-estimator {font-family: monospace;background-color: #f0f8ff;border: 1px dotted black;border-radius: 0.25em;box-sizing: border-box;margin-bottom: 0.5em;}#sk-container-id-4 div.sk-estimator:hover {background-color: #d4ebff;}#sk-container-id-4 div.sk-parallel-item::after {content: \"\";width: 100%;border-bottom: 1px solid gray;flex-grow: 1;}#sk-container-id-4 div.sk-label:hover label.sk-toggleable__label {background-color: #d4ebff;}#sk-container-id-4 div.sk-serial::before {content: \"\";position: absolute;border-left: 1px solid gray;box-sizing: border-box;top: 0;bottom: 0;left: 50%;z-index: 0;}#sk-container-id-4 div.sk-serial {display: flex;flex-direction: column;align-items: center;background-color: white;padding-right: 0.2em;padding-left: 0.2em;position: relative;}#sk-container-id-4 div.sk-item {position: relative;z-index: 1;}#sk-container-id-4 div.sk-parallel {display: flex;align-items: stretch;justify-content: center;background-color: white;position: relative;}#sk-container-id-4 div.sk-item::before, #sk-container-id-4 div.sk-parallel-item::before {content: \"\";position: absolute;border-left: 1px solid gray;box-sizing: border-box;top: 0;bottom: 0;left: 50%;z-index: -1;}#sk-container-id-4 div.sk-parallel-item {display: flex;flex-direction: column;z-index: 1;position: relative;background-color: white;}#sk-container-id-4 div.sk-parallel-item:first-child::after {align-self: flex-end;width: 50%;}#sk-container-id-4 div.sk-parallel-item:last-child::after {align-self: flex-start;width: 50%;}#sk-container-id-4 div.sk-parallel-item:only-child::after {width: 0;}#sk-container-id-4 div.sk-dashed-wrapped {border: 1px dashed gray;margin: 0 0.4em 0.5em 0.4em;box-sizing: border-box;padding-bottom: 0.4em;background-color: white;}#sk-container-id-4 div.sk-label label {font-family: monospace;font-weight: bold;display: inline-block;line-height: 1.2em;}#sk-container-id-4 div.sk-label-container {text-align: center;}#sk-container-id-4 div.sk-container {/* jupyter's `normalize.less` sets `[hidden] { display: none; }` but bootstrap.min.css set `[hidden] { display: none !important; }` so we also need the `!important` here to be able to override the default hidden behavior on the sphinx rendered scikit-learn.org. See: https://github.com/scikit-learn/scikit-learn/issues/21755 */display: inline-block !important;position: relative;}#sk-container-id-4 div.sk-text-repr-fallback {display: none;}</style><div id=\"sk-container-id-4\" class=\"sk-top-container\"><div class=\"sk-text-repr-fallback\"><pre>SVC(probability=True)</pre><b>In a Jupyter environment, please rerun this cell to show the HTML representation or trust the notebook. <br />On GitHub, the HTML representation is unable to render, please try loading this page with nbviewer.org.</b></div><div class=\"sk-container\" hidden><div class=\"sk-item\"><div class=\"sk-estimator sk-toggleable\"><input class=\"sk-toggleable__control sk-hidden--visually\" id=\"sk-estimator-id-4\" type=\"checkbox\" checked><label for=\"sk-estimator-id-4\" class=\"sk-toggleable__label sk-toggleable__label-arrow\">SVC</label><div class=\"sk-toggleable__content\"><pre>SVC(probability=True)</pre></div></div></div></div></div>"
     },
     "execution_count": 23,
     "metadata": {},
     "output_type": "execute_result"
    }
   ],
   "source": [
    "# Создание и обучение классификатора\n",
    "from sklearn import svm\n",
    "from sklearn.metrics import confusion_matrix, accuracy_score\n",
    "from sklearn.model_selection import train_test_split\n",
    "\n",
    "x = df_std.iloc[:, :-1].values  # все колонки до последней - переменные функции\n",
    "y = df.iloc[:, -1].values  # в качестве результирующего значения берем последнюю колонку\n",
    "\n",
    "# делим набор данных на обучающий и тестовый\n",
    "x_train, x_test, y_train, y_test = train_test_split(x, y, test_size=0.25)\n",
    "\n",
    "classifier = svm.SVC(probability=True)\n",
    "classifier.fit(x_train, y_train)  # идентифицирует и изучает параметры модели из обучающего набора данных\n"
   ],
   "metadata": {
    "collapsed": false
   }
  },
  {
   "cell_type": "code",
   "execution_count": 24,
   "outputs": [
    {
     "name": "stdout",
     "output_type": "stream",
     "text": [
      "Точность:\n",
      " 0.9860834990059643 \n",
      "\n",
      "Матрица ошибок:\n",
      " [[244   7]\n",
      " [  0 252]] \n",
      "\n"
     ]
    }
   ],
   "source": [
    "# Оценка качества классификатора\n",
    "y_pred = classifier.predict(x_test)  # прогноз на основе тестовых данных\n",
    "\n",
    "# классификационная оценка точности\n",
    "print(\"Точность:\\n\", accuracy_score(y_test, y_pred), \"\\n\")\n",
    "\n",
    "# вычисляет матрицу ошибок для оценки точности классификации\n",
    "print(\"Матрица ошибок:\\n\", confusion_matrix(y_test, y_pred), \"\\n\")\n"
   ],
   "metadata": {
    "collapsed": false
   }
  },
  {
   "cell_type": "code",
   "execution_count": 25,
   "outputs": [
    {
     "name": "stdout",
     "output_type": "stream",
     "text": [
      "    Temperature   Humidity        Light          CO2  HumidityRatio  Occupancy\n",
      "0     20.739320  37.362123  1133.283771  1719.478423       0.003316        0.0\n",
      "1     22.757693  25.605982   827.189941   475.785309       0.002475        0.0\n",
      "2     23.087478  13.942455   579.711764  1681.450604       0.005413        0.0\n",
      "3     16.079716  10.781828   742.932432  1858.804613       0.003393        0.0\n",
      "4     23.077517  15.598680   868.829939  1236.116394       0.006729        0.0\n",
      "5     16.377933  25.710899   411.790279  1722.082241       0.006454        0.0\n",
      "6     18.289836  14.175867   495.179394  1072.893834       0.005131        0.0\n",
      "7     25.202298  34.577246   833.883141   786.305190       0.003823        0.0\n",
      "8     24.064973  26.107119   372.435697  1400.546016       0.002795        0.0\n",
      "9     17.450413  13.601289    51.383301  1234.837321       0.005112        0.0\n",
      "10    19.290350  20.581057   591.311860  1810.408485       0.001690        0.0\n",
      "11    17.758581  11.368812  1141.822987   845.381973       0.002114        0.0\n",
      "12    23.789722  34.752389   725.639969  1658.501736       0.002256        0.0\n",
      "13    21.702103  27.483594   816.453662  1104.540565       0.003832        0.0\n",
      "14    25.232367  11.399890   143.890272  1216.980451       0.004618        0.0\n"
     ]
    }
   ],
   "source": [
    "# Генератор входных данных\n",
    "import pandas as pd\n",
    "import numpy as np\n",
    "\n",
    "n = 15  # количество входных объектов\n",
    "\n",
    "# генерируем параметры в диапазоне, большем допустимого интервала\n",
    "temp = np.random.uniform(low=15.0, high=30.0, size=(n,))\n",
    "humid = np.random.uniform(low=10.0, high=40.0, size=(n,))\n",
    "light = np.random.uniform(low=0.0, high=1200.0, size=(n,))\n",
    "co2 = np.random.uniform(low=300.0, high=2000.0, size=(n,))\n",
    "humid_ratio = np.random.uniform(low=0.001, high=0.007, size=(n,))\n",
    "occupancy = np.zeros((n,))\n",
    "\n",
    "matrix_aux = np.vstack([temp, humid, light, co2, humid_ratio, occupancy])\n",
    "matrix = np.transpose(matrix_aux)\n",
    "df_input = pd.DataFrame(matrix, columns=['Temperature', 'Humidity', 'Light', 'CO2', 'HumidityRatio', 'Occupancy'])\n",
    "\n",
    "print(df_input)\n"
   ],
   "metadata": {
    "collapsed": false
   }
  },
  {
   "cell_type": "code",
   "execution_count": 26,
   "outputs": [
    {
     "name": "stdout",
     "output_type": "stream",
     "text": [
      "    Temperature  Humidity     Light       CO2  HumidityRatio  Occupancy\n",
      "0     -0.809966  4.644972  3.469087  3.099668      -1.288222  -0.963873\n",
      "1      1.058139 -0.046189  2.268793 -0.977754      -2.613606  -0.963873\n",
      "2      1.363372 -4.700393  1.298350  2.974995       2.017713  -0.963873\n",
      "3     -5.122663 -5.961607  1.938392  3.556446      -1.166881  -0.963873\n",
      "4      1.354153 -4.039494  2.432077  1.514976       4.091565  -0.963873\n",
      "5     -4.846647 -0.004323  0.639875  3.108205       3.659253  -0.963873\n",
      "6     -3.077086 -4.607252  0.966871  0.979854       1.573359  -0.963873\n",
      "7      3.320743  3.533697  2.295039  0.040279      -0.488040  -0.963873\n",
      "8      2.268092  0.153784  0.485553  2.054055      -2.108631  -0.963873\n",
      "9     -3.854014 -4.836532 -0.773398  1.510782       1.543013  -0.963873\n",
      "10    -2.151060 -2.051331  1.343838  3.397781      -3.850609  -0.963873\n",
      "11    -3.568789 -5.727377  3.502572  0.233961      -3.182314  -0.963873\n",
      "12     2.013334  3.603586  1.870582  2.899758      -2.959185  -0.963873\n",
      "13     0.081138  0.703052  2.226692  1.083607      -0.473705  -0.963873\n",
      "14     3.348574 -5.714976 -0.410648  1.452239       0.764669  -0.963873\n"
     ]
    }
   ],
   "source": [
    "# Стандартизируем тестовые данные\n",
    "import pandas as pd\n",
    "\n",
    "input_scaled = scaler.transform(df_input)\n",
    "\n",
    "df_input_std = pd.DataFrame(input_scaled, columns=names)\n",
    "print(df_input_std)\n"
   ],
   "metadata": {
    "collapsed": false
   }
  },
  {
   "cell_type": "code",
   "execution_count": 27,
   "outputs": [
    {
     "name": "stdout",
     "output_type": "stream",
     "text": [
      "    Temperature   Humidity       Light          CO2  HumidityRatio  Occupancy\n",
      "1     22.757693  25.605982  827.189941   475.785309       0.002475        0.0\n",
      "8     24.064973  26.107119  372.435697  1400.546016       0.002795        0.0\n",
      "13    21.702103  27.483594  816.453662  1104.540565       0.003832        0.0 \n",
      "\n",
      "    Temperature  Humidity     Light       CO2  HumidityRatio  Occupancy\n",
      "1      1.058139 -0.046189  2.268793 -0.977754      -2.613606  -0.963873\n",
      "8      2.268092  0.153784  0.485553  2.054055      -2.108631  -0.963873\n",
      "13     0.081138  0.703052  2.226692  1.083607      -0.473705  -0.963873\n"
     ]
    }
   ],
   "source": [
    "# Удаляем значения вне доверительного интервала\n",
    "std = df_std.std()\n",
    "\n",
    "for_deletion = df_input_std.index[\n",
    "    (df_input_std.Temperature < (-3 * std.Temperature)) |\n",
    "    (df_input_std.Temperature > (3 * std.Temperature)) |\n",
    "    (df_input_std.Humidity < (-3 * std.Humidity)) |\n",
    "    (df_input_std.Humidity > (3 * std.Humidity)) |\n",
    "    (df_input_std.Light < (-3 * std.Light)) |\n",
    "    (df_input_std.Light > (3 * std.Light)) |\n",
    "    (df_input_std.CO2 < (-3 * std.CO2)) |\n",
    "    (df_input_std.CO2 > (3 * std.CO2)) |\n",
    "    (df_input_std.HumidityRatio < (-3 * std.HumidityRatio)) |\n",
    "    (df_input_std.HumidityRatio > (3 * std.HumidityRatio))\n",
    "    ].tolist()\n",
    "\n",
    "df_input_clean = df_input.drop(for_deletion)\n",
    "df_input_clean_std = df_input_std.drop(for_deletion)\n",
    "\n",
    "print(df_input_clean, '\\n')\n",
    "print(df_input_clean_std)\n"
   ],
   "metadata": {
    "collapsed": false
   }
  },
  {
   "cell_type": "code",
   "execution_count": 28,
   "outputs": [
    {
     "name": "stdout",
     "output_type": "stream",
     "text": [
      "    Temperature   Humidity       Light          CO2  HumidityRatio  Occupancy  \\\n",
      "1     22.757693  25.605982  827.189941   475.785309       0.002475          1   \n",
      "8     24.064973  26.107119  372.435697  1400.546016       0.002795          0   \n",
      "13    21.702103  27.483594  816.453662  1104.540565       0.003832          1   \n",
      "\n",
      "    Probability0  Probability1  \n",
      "1       0.688786      0.311214  \n",
      "8       0.889049      0.110951  \n",
      "13      0.210400      0.789600  \n"
     ]
    }
   ],
   "source": [
    "# Подаем полученные данные на вход классификатору\n",
    "\n",
    "input_x = df_input_clean_std.iloc[:, :-1].values\n",
    "\n",
    "input_y = classifier.predict(input_x)\n",
    "probs = classifier.predict_proba(input_x)\n",
    "probs = np.transpose(probs)\n",
    "\n",
    "df_input_clean.Occupancy = input_y\n",
    "df_input_clean['Probability0'] = probs[0]\n",
    "df_input_clean['Probability1'] = probs[1]\n",
    "\n",
    "print(df_input_clean)\n"
   ],
   "metadata": {
    "collapsed": false
   }
  }
 ],
 "metadata": {
  "kernelspec": {
   "display_name": "Python 3",
   "language": "python",
   "name": "python3"
  },
  "language_info": {
   "codemirror_mode": {
    "name": "ipython",
    "version": 2
   },
   "file_extension": ".py",
   "mimetype": "text/x-python",
   "name": "python",
   "nbconvert_exporter": "python",
   "pygments_lexer": "ipython2",
   "version": "2.7.6"
  }
 },
 "nbformat": 4,
 "nbformat_minor": 0
}
